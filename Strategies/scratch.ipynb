{
 "cells": [
  {
   "cell_type": "code",
   "execution_count": 1,
   "metadata": {
    "collapsed": false
   },
   "outputs": [],
   "source": [
    "import datetime\n",
    "import numpy as np\n",
    "import pandas as pd\n",
    "import os.path\n",
    "\n",
    "import Strategies.universes\n",
    "import Strategies.returns\n",
    "import Strategies.factors\n",
    "import Utilities.datetime_tools"
   ]
  },
  {
   "cell_type": "code",
   "execution_count": 2,
   "metadata": {
    "collapsed": false
   },
   "outputs": [
    {
     "data": {
      "text/plain": [
       "['',\n",
       " '/Users/hmaupard/Documents/Personal/python-envs/python-3.5/bin',\n",
       " '/Users/hmaupard/Documents/Personal/python-envs/python-3.5/lib/python3.5/site-packages',\n",
       " '/Users/hmaupard/Documents/Personal/python-envs/python-3.5/lib',\n",
       " '/Users/hmaupard/Documents/Personal/python-projects/Bachelier',\n",
       " '/Users/hmaupard/Documents/Personal/python-envs/python-3.5/lib/python35.zip',\n",
       " '/Users/hmaupard/Documents/Personal/python-envs/python-3.5/lib/python3.5',\n",
       " '/Users/hmaupard/Documents/Personal/python-envs/python-3.5/lib/python3.5/plat-darwin',\n",
       " '/Users/hmaupard/Documents/Personal/python-envs/python-3.5/lib/python3.5/lib-dynload',\n",
       " '/Library/Frameworks/Python.framework/Versions/3.5/lib/python3.5',\n",
       " '/Library/Frameworks/Python.framework/Versions/3.5/lib/python3.5/plat-darwin',\n",
       " '/Users/hmaupard/Documents/Personal/python-envs/python-3.5/lib/python3.5/site-packages/IPython/extensions',\n",
       " '/Users/hmaupard/.ipython']"
      ]
     },
     "execution_count": 2,
     "metadata": {},
     "output_type": "execute_result"
    }
   ],
   "source": [
    "import sys\n",
    "sys.path"
   ]
  },
  {
   "cell_type": "code",
   "execution_count": 3,
   "metadata": {
    "collapsed": false
   },
   "outputs": [],
   "source": [
    "universe_start_date = datetime.date(2009, 1, 1)\n",
    "universe_end_date = datetime.date(2011, 1, 1)\n",
    "country = 'US'\n",
    "\n",
    "assets_universe = Strategies.universes.get_liquid_us_equities_universe(universe_start_date, universe_end_date)\n",
    "assets_universe_with_factors = Strategies.factors.define_factors(\n",
    "        assets_universe, Utilities.datetime_tools.get_business_days(country,\n",
    "                                                                    universe_start_date,\n",
    "                                                                    universe_end_date))\n",
    "\n",
    "\n",
    "# Compute signals and train\n",
    "universe_start_date = datetime.date(2011, 1, 1)\n",
    "universe_end_date = datetime.date(2011, 6, 1)\n",
    "country = 'US'\n",
    "\n",
    "signals_df = Strategies.returns.compute_hedged_returns(\n",
    "        assets_universe_with_factors, Utilities.datetime_tools.get_business_days(country,\n",
    "                                                                                 universe_start_date,\n",
    "                                                                                 universe_end_date))"
   ]
  },
  {
   "cell_type": "code",
   "execution_count": 4,
   "metadata": {
    "collapsed": false,
    "scrolled": true
   },
   "outputs": [
    {
     "data": {
      "text/plain": [
       "Index(['COMPOSITE_ID_BB_GLOBAL', 'SECURITY_TYP', 'ID_BB_SEC_NUM_DES',\n",
       "       'CapiHedgeInstrument', 'FactorHedgeInstrument', 'SectorHedgeInstrument',\n",
       "       'CapiHedgeBeta', 'SectorHedgeBeta', 'FactorHedgeBeta', 'Date', 'Open',\n",
       "       'Close', 'AdjClose', 'Volume', 'TheoOpen', 'NAKED_RETURN_OTC_1D',\n",
       "       'NAKED_RETURN_BWD_CTO_1D', 'NAKED_RETURN_BWD_CTC_1D',\n",
       "       'NAKED_RETURN_BWD_CTC_2D', 'NAKED_RETURN_BWD_CTC_5D',\n",
       "       'NAKED_RETURN_BWD_CTC_10D', 'NAKED_RETURN_BWD_CTC_20D',\n",
       "       'NAKED_RETURN_BWD_CTC_60D', 'NAKED_RETURN_BWD_CTC_120D',\n",
       "       'NAKED_RETURN_BWD_CTC_180D', 'NAKED_RETURN_FWD_CTO_1D',\n",
       "       'NAKED_RETURN_FWD_CTC_1D', 'NAKED_RETURN_FWD_CTC_2D',\n",
       "       'NAKED_RETURN_FWD_CTC_5D', 'NAKED_RETURN_FWD_CTC_10D',\n",
       "       'NAKED_RETURN_FWD_CTC_20D', 'NAKED_RETURN_FWD_CTC_60D',\n",
       "       'NAKED_RETURN_FWD_CTC_120D', 'NAKED_RETURN_FWD_CTC_180D',\n",
       "       'CAPI_BETA_HEDGED_RETURN_OTC_1D', 'CAPI_BETA_HEDGED_RETURN_BWD_CTO_1D',\n",
       "       'CAPI_BETA_HEDGED_RETURN_BWD_CTC_1D',\n",
       "       'CAPI_BETA_HEDGED_RETURN_BWD_CTC_2D',\n",
       "       'CAPI_BETA_HEDGED_RETURN_BWD_CTC_5D',\n",
       "       'CAPI_BETA_HEDGED_RETURN_BWD_CTC_10D',\n",
       "       'CAPI_BETA_HEDGED_RETURN_BWD_CTC_20D',\n",
       "       'CAPI_BETA_HEDGED_RETURN_BWD_CTC_60D',\n",
       "       'CAPI_BETA_HEDGED_RETURN_BWD_CTC_120D',\n",
       "       'CAPI_BETA_HEDGED_RETURN_BWD_CTC_180D',\n",
       "       'CAPI_BETA_HEDGED_RETURN_FWD_CTO_1D',\n",
       "       'CAPI_BETA_HEDGED_RETURN_FWD_CTC_1D',\n",
       "       'CAPI_BETA_HEDGED_RETURN_FWD_CTC_2D',\n",
       "       'CAPI_BETA_HEDGED_RETURN_FWD_CTC_5D',\n",
       "       'CAPI_BETA_HEDGED_RETURN_FWD_CTC_10D',\n",
       "       'CAPI_BETA_HEDGED_RETURN_FWD_CTC_20D',\n",
       "       'CAPI_BETA_HEDGED_RETURN_FWD_CTC_60D',\n",
       "       'CAPI_BETA_HEDGED_RETURN_FWD_CTC_120D',\n",
       "       'CAPI_BETA_HEDGED_RETURN_FWD_CTC_180D',\n",
       "       'SECTOR_BETA_HEDGED_RETURN_OTC_1D',\n",
       "       'SECTOR_BETA_HEDGED_RETURN_BWD_CTO_1D',\n",
       "       'SECTOR_BETA_HEDGED_RETURN_BWD_CTC_1D',\n",
       "       'SECTOR_BETA_HEDGED_RETURN_BWD_CTC_2D',\n",
       "       'SECTOR_BETA_HEDGED_RETURN_BWD_CTC_5D',\n",
       "       'SECTOR_BETA_HEDGED_RETURN_BWD_CTC_10D',\n",
       "       'SECTOR_BETA_HEDGED_RETURN_BWD_CTC_20D',\n",
       "       'SECTOR_BETA_HEDGED_RETURN_BWD_CTC_60D',\n",
       "       'SECTOR_BETA_HEDGED_RETURN_BWD_CTC_120D',\n",
       "       'SECTOR_BETA_HEDGED_RETURN_BWD_CTC_180D',\n",
       "       'SECTOR_BETA_HEDGED_RETURN_FWD_CTO_1D',\n",
       "       'SECTOR_BETA_HEDGED_RETURN_FWD_CTC_1D',\n",
       "       'SECTOR_BETA_HEDGED_RETURN_FWD_CTC_2D',\n",
       "       'SECTOR_BETA_HEDGED_RETURN_FWD_CTC_5D',\n",
       "       'SECTOR_BETA_HEDGED_RETURN_FWD_CTC_10D',\n",
       "       'SECTOR_BETA_HEDGED_RETURN_FWD_CTC_20D',\n",
       "       'SECTOR_BETA_HEDGED_RETURN_FWD_CTC_60D',\n",
       "       'SECTOR_BETA_HEDGED_RETURN_FWD_CTC_120D',\n",
       "       'SECTOR_BETA_HEDGED_RETURN_FWD_CTC_180D',\n",
       "       'FACTOR_BETA_HEDGED_RETURN_OTC_1D',\n",
       "       'FACTOR_BETA_HEDGED_RETURN_BWD_CTO_1D',\n",
       "       'FACTOR_BETA_HEDGED_RETURN_BWD_CTC_1D',\n",
       "       'FACTOR_BETA_HEDGED_RETURN_BWD_CTC_2D',\n",
       "       'FACTOR_BETA_HEDGED_RETURN_BWD_CTC_5D',\n",
       "       'FACTOR_BETA_HEDGED_RETURN_BWD_CTC_10D',\n",
       "       'FACTOR_BETA_HEDGED_RETURN_BWD_CTC_20D',\n",
       "       'FACTOR_BETA_HEDGED_RETURN_BWD_CTC_60D',\n",
       "       'FACTOR_BETA_HEDGED_RETURN_BWD_CTC_120D',\n",
       "       'FACTOR_BETA_HEDGED_RETURN_BWD_CTC_180D',\n",
       "       'FACTOR_BETA_HEDGED_RETURN_FWD_CTO_1D',\n",
       "       'FACTOR_BETA_HEDGED_RETURN_FWD_CTC_1D',\n",
       "       'FACTOR_BETA_HEDGED_RETURN_FWD_CTC_2D',\n",
       "       'FACTOR_BETA_HEDGED_RETURN_FWD_CTC_5D',\n",
       "       'FACTOR_BETA_HEDGED_RETURN_FWD_CTC_10D',\n",
       "       'FACTOR_BETA_HEDGED_RETURN_FWD_CTC_20D',\n",
       "       'FACTOR_BETA_HEDGED_RETURN_FWD_CTC_60D',\n",
       "       'FACTOR_BETA_HEDGED_RETURN_FWD_CTC_120D',\n",
       "       'FACTOR_BETA_HEDGED_RETURN_FWD_CTC_180D'],\n",
       "      dtype='object')"
      ]
     },
     "execution_count": 4,
     "metadata": {},
     "output_type": "execute_result"
    }
   ],
   "source": [
    "signals_df.columns"
   ]
  },
  {
   "cell_type": "code",
   "execution_count": 5,
   "metadata": {
    "collapsed": true
   },
   "outputs": [],
   "source": [
    "signals_df = signals_df.merge(signals_df[['ID_BB_SEC_NUM_DES', 'COMPOSITE_ID_BB_GLOBAL']].rename(columns={\n",
    "            'ID_BB_SEC_NUM_DES':'CapiHedgeInstrument_DES', \n",
    "            'COMPOSITE_ID_BB_GLOBAL': 'CapiHedgeInstrument'\n",
    "        }).drop_duplicates(), on='CapiHedgeInstrument')\n",
    "\n",
    "signals_df = signals_df.merge(signals_df[['ID_BB_SEC_NUM_DES', 'COMPOSITE_ID_BB_GLOBAL']].rename(columns={\n",
    "            'ID_BB_SEC_NUM_DES':'SectorHedgeInstrument_DES', \n",
    "            'COMPOSITE_ID_BB_GLOBAL': 'SectorHedgeInstrument'\n",
    "        }).drop_duplicates(), on='SectorHedgeInstrument')\n",
    "\n",
    "signals_df = signals_df.merge(signals_df[['ID_BB_SEC_NUM_DES', 'COMPOSITE_ID_BB_GLOBAL']].rename(columns={\n",
    "            'ID_BB_SEC_NUM_DES':'FactorHedgeInstrument_DES', \n",
    "            'COMPOSITE_ID_BB_GLOBAL': 'FactorHedgeInstrument'\n",
    "        }).drop_duplicates(), on='FactorHedgeInstrument')"
   ]
  },
  {
   "cell_type": "code",
   "execution_count": 6,
   "metadata": {
    "collapsed": true
   },
   "outputs": [],
   "source": [
    "#try regression models"
   ]
  },
  {
   "cell_type": "code",
   "execution_count": 7,
   "metadata": {
    "collapsed": false,
    "scrolled": true
   },
   "outputs": [],
   "source": [
    "#import matplotlib.pyplot as plt\n",
    "#matplotlib % inline\n",
    "\n",
    "hedges = signals_df[['ID_BB_SEC_NUM_DES', 'CapiHedgeInstrument_DES', \n",
    "            'SectorHedgeInstrument_DES', 'FactorHedgeInstrument_DES']].drop_duplicates()"
   ]
  },
  {
   "cell_type": "code",
   "execution_count": 9,
   "metadata": {
    "collapsed": false,
    "scrolled": true
   },
   "outputs": [
    {
     "data": {
      "text/plain": [
       "ID_BB_SEC_NUM_DES            8\n",
       "CapiHedgeInstrument_DES      8\n",
       "SectorHedgeInstrument_DES    8\n",
       "Name: IWM, dtype: int64"
      ]
     },
     "execution_count": 9,
     "metadata": {},
     "output_type": "execute_result"
    }
   ],
   "source": [
    "hedges.groupby('FactorHedgeInstrument_DES').count().sort_values('ID_BB_SEC_NUM_DES', ascending=False).loc['IWM']"
   ]
  },
  {
   "cell_type": "code",
   "execution_count": null,
   "metadata": {
    "collapsed": true
   },
   "outputs": [],
   "source": [
    "\n",
    "\n"
   ]
  }
 ],
 "metadata": {
  "kernelspec": {
   "display_name": "Python 3",
   "language": "python",
   "name": "python3"
  },
  "language_info": {
   "codemirror_mode": {
    "name": "ipython",
    "version": 3
   },
   "file_extension": ".py",
   "mimetype": "text/x-python",
   "name": "python",
   "nbconvert_exporter": "python",
   "pygments_lexer": "ipython3",
   "version": "3.5.1"
  }
 },
 "nbformat": 4,
 "nbformat_minor": 0
}
