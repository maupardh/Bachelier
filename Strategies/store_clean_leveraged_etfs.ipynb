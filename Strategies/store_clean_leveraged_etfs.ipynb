{
 "cells": [
  {
   "cell_type": "code",
   "execution_count": 1,
   "metadata": {
    "collapsed": false
   },
   "outputs": [],
   "source": [
    "import datetime\n",
    "import numpy as np\n",
    "import pandas as pd\n",
    "import os.path\n",
    "\n",
    "import Strategies.universes\n",
    "import Strategies.returns\n",
    "import Strategies.factors\n",
    "import Utilities.datetime_tools\n",
    "import Utilities.assets\n",
    "import Utilities.general_tools"
   ]
  },
  {
   "cell_type": "code",
   "execution_count": 2,
   "metadata": {
    "collapsed": false
   },
   "outputs": [],
   "source": [
    "assets = Utilities.assets.get_assets()\n"
   ]
  },
  {
   "cell_type": "code",
   "execution_count": 3,
   "metadata": {
    "collapsed": false
   },
   "outputs": [
    {
     "data": {
      "text/plain": [
       "Index(['NAME', 'ID_BB_SEC_NUM_DES', 'FEED_SOURCE', 'ID_BB_SEC_NUM_SRC',\n",
       "       'ID_BB_UNIQUE', 'SECURITY_TYP', 'MARKET_SECTOR_DES', 'ID_BB_GLOBAL',\n",
       "       'COMPOSITE_ID_BB_GLOBAL', 'FEED_EID1', 'FEED_EID2', 'FEED_EID3',\n",
       "       'FEED_EID4', 'FEED_DELAYED_EID1', 'Subscription String 1',\n",
       "       'Subscription String 2', 'Subscription String 3'],\n",
       "      dtype='object')"
      ]
     },
     "execution_count": 3,
     "metadata": {},
     "output_type": "execute_result"
    }
   ],
   "source": [
    "assets.columns"
   ]
  },
  {
   "cell_type": "code",
   "execution_count": 4,
   "metadata": {
    "collapsed": false
   },
   "outputs": [
    {
     "data": {
      "text/plain": [
       "(114, 4)"
      ]
     },
     "execution_count": 4,
     "metadata": {},
     "output_type": "execute_result"
    }
   ],
   "source": [
    "\n",
    "\n",
    "assets = assets.loc[np.logical_and(assets['FEED_SOURCE']=='US', assets['SECURITY_TYP']=='ETP')]\n",
    "leveraged_etfs = Utilities.general_tools.read_and_log_pandas_df('/Users/hmaupard/Documents/Personal/Data/Bachelier/Assets/rawLeveragedETFs.csv')\n",
    "\n",
    "leveraged_etfs.shape"
   ]
  },
  {
   "cell_type": "code",
   "execution_count": 5,
   "metadata": {
    "collapsed": false
   },
   "outputs": [
    {
     "data": {
      "text/html": [
       "<div>\n",
       "<table border=\"1\" class=\"dataframe\">\n",
       "  <thead>\n",
       "    <tr style=\"text-align: right;\">\n",
       "      <th></th>\n",
       "      <th>LEV_ETF_TICKER</th>\n",
       "      <th>LEV_RATIO</th>\n",
       "      <th>ASSETS_2016</th>\n",
       "      <th>BASE_ETF_TICKER</th>\n",
       "    </tr>\n",
       "  </thead>\n",
       "  <tbody>\n",
       "    <tr>\n",
       "      <th>0</th>\n",
       "      <td>AGQ</td>\n",
       "      <td>2</td>\n",
       "      <td>269000000</td>\n",
       "      <td>TO_DO</td>\n",
       "    </tr>\n",
       "    <tr>\n",
       "      <th>1</th>\n",
       "      <td>BDCL</td>\n",
       "      <td>2</td>\n",
       "      <td>224000000</td>\n",
       "      <td>TO_DO</td>\n",
       "    </tr>\n",
       "    <tr>\n",
       "      <th>2</th>\n",
       "      <td>BDD</td>\n",
       "      <td>2</td>\n",
       "      <td>3000000</td>\n",
       "      <td>TO_DO</td>\n",
       "    </tr>\n",
       "    <tr>\n",
       "      <th>3</th>\n",
       "      <td>BIB</td>\n",
       "      <td>2</td>\n",
       "      <td>429000000</td>\n",
       "      <td>TO_DO</td>\n",
       "    </tr>\n",
       "    <tr>\n",
       "      <th>4</th>\n",
       "      <td>CEFL</td>\n",
       "      <td>2</td>\n",
       "      <td>160000000</td>\n",
       "      <td>TO_DO</td>\n",
       "    </tr>\n",
       "  </tbody>\n",
       "</table>\n",
       "</div>"
      ],
      "text/plain": [
       "  LEV_ETF_TICKER  LEV_RATIO  ASSETS_2016 BASE_ETF_TICKER\n",
       "0            AGQ          2    269000000           TO_DO\n",
       "1           BDCL          2    224000000           TO_DO\n",
       "2            BDD          2      3000000           TO_DO\n",
       "3            BIB          2    429000000           TO_DO\n",
       "4           CEFL          2    160000000           TO_DO"
      ]
     },
     "execution_count": 5,
     "metadata": {},
     "output_type": "execute_result"
    }
   ],
   "source": [
    "leveraged_etfs.head()"
   ]
  },
  {
   "cell_type": "code",
   "execution_count": 6,
   "metadata": {
    "collapsed": false
   },
   "outputs": [],
   "source": [
    "clean_leveraged_etfs = leveraged_etfs.rename(columns={\n",
    "        'LEV_ETF_TICKER': 'LEV_ETF_DES',\n",
    "        'BASE_ETF_TICKER': 'BASE_ETF_DES'\n",
    "    }).merge(assets.rename(columns={'ID_BB_SEC_NUM_DES': 'LEV_ETF_DES'}), on='LEV_ETF_DES')"
   ]
  },
  {
   "cell_type": "code",
   "execution_count": 7,
   "metadata": {
    "collapsed": false
   },
   "outputs": [
    {
     "data": {
      "text/plain": [
       "(114, 20)"
      ]
     },
     "execution_count": 7,
     "metadata": {},
     "output_type": "execute_result"
    }
   ],
   "source": [
    "clean_leveraged_etfs.shape"
   ]
  },
  {
   "cell_type": "code",
   "execution_count": 8,
   "metadata": {
    "collapsed": false
   },
   "outputs": [
    {
     "data": {
      "text/html": [
       "<div>\n",
       "<table border=\"1\" class=\"dataframe\">\n",
       "  <thead>\n",
       "    <tr style=\"text-align: right;\">\n",
       "      <th></th>\n",
       "      <th>LEV_ETF_DES</th>\n",
       "      <th>LEV_RATIO</th>\n",
       "      <th>ASSETS_2016</th>\n",
       "      <th>BASE_ETF_DES</th>\n",
       "      <th>NAME</th>\n",
       "      <th>FEED_SOURCE</th>\n",
       "      <th>ID_BB_SEC_NUM_SRC</th>\n",
       "      <th>ID_BB_UNIQUE</th>\n",
       "      <th>SECURITY_TYP</th>\n",
       "      <th>MARKET_SECTOR_DES</th>\n",
       "      <th>ID_BB_GLOBAL</th>\n",
       "      <th>COMPOSITE_ID_BB_GLOBAL</th>\n",
       "      <th>FEED_EID1</th>\n",
       "      <th>FEED_EID2</th>\n",
       "      <th>FEED_EID3</th>\n",
       "      <th>FEED_EID4</th>\n",
       "      <th>FEED_DELAYED_EID1</th>\n",
       "      <th>Subscription String 1</th>\n",
       "      <th>Subscription String 2</th>\n",
       "      <th>Subscription String 3</th>\n",
       "    </tr>\n",
       "  </thead>\n",
       "  <tbody>\n",
       "    <tr>\n",
       "      <th>0</th>\n",
       "      <td>AGQ</td>\n",
       "      <td>2</td>\n",
       "      <td>269000000</td>\n",
       "      <td>TO_DO</td>\n",
       "      <td>PROSHARES ULTRA SILVER</td>\n",
       "      <td>US</td>\n",
       "      <td>399440478895.0</td>\n",
       "      <td>EQ0000000007454961</td>\n",
       "      <td>ETP</td>\n",
       "      <td>Equity</td>\n",
       "      <td>BBG000F7KQG0</td>\n",
       "      <td>BBG000F7KQG0</td>\n",
       "      <td>14019.0</td>\n",
       "      <td>29776.0</td>\n",
       "      <td>nan</td>\n",
       "      <td>0.0</td>\n",
       "      <td>39500.0</td>\n",
       "      <td>//blp/mktdata/bsym/US/AGQ</td>\n",
       "      <td>//blp/mktdata/buid/US/EQ0000000007454961</td>\n",
       "      <td>//blp/mktdata/bsid/399440478895</td>\n",
       "    </tr>\n",
       "    <tr>\n",
       "      <th>1</th>\n",
       "      <td>BDCL</td>\n",
       "      <td>2</td>\n",
       "      <td>224000000</td>\n",
       "      <td>TO_DO</td>\n",
       "      <td>ETRACS 2X WELLS FARGO BDCI</td>\n",
       "      <td>US</td>\n",
       "      <td>399453866571.0</td>\n",
       "      <td>EQ0000000017535618</td>\n",
       "      <td>ETP</td>\n",
       "      <td>Equity</td>\n",
       "      <td>BBG001Q9RN36</td>\n",
       "      <td>BBG001Q9RN36</td>\n",
       "      <td>14019.0</td>\n",
       "      <td>29776.0</td>\n",
       "      <td>nan</td>\n",
       "      <td>0.0</td>\n",
       "      <td>39500.0</td>\n",
       "      <td>//blp/mktdata/bsym/US/BDCL</td>\n",
       "      <td>//blp/mktdata/buid/US/EQ0000000017535618</td>\n",
       "      <td>//blp/mktdata/bsid/399453866571</td>\n",
       "    </tr>\n",
       "    <tr>\n",
       "      <th>2</th>\n",
       "      <td>BDD</td>\n",
       "      <td>2</td>\n",
       "      <td>3000000</td>\n",
       "      <td>TO_DO</td>\n",
       "      <td>DB BASE METALS DOUBLE LONG</td>\n",
       "      <td>US</td>\n",
       "      <td>399438439680.0</td>\n",
       "      <td>EQ0000000006376762</td>\n",
       "      <td>ETP</td>\n",
       "      <td>Equity</td>\n",
       "      <td>BBG000GDGKJ1</td>\n",
       "      <td>BBG000GDGKJ1</td>\n",
       "      <td>14019.0</td>\n",
       "      <td>29776.0</td>\n",
       "      <td>nan</td>\n",
       "      <td>0.0</td>\n",
       "      <td>39500.0</td>\n",
       "      <td>//blp/mktdata/bsym/US/BDD</td>\n",
       "      <td>//blp/mktdata/buid/US/EQ0000000006376762</td>\n",
       "      <td>//blp/mktdata/bsid/399438439680</td>\n",
       "    </tr>\n",
       "    <tr>\n",
       "      <th>3</th>\n",
       "      <td>BIB</td>\n",
       "      <td>2</td>\n",
       "      <td>429000000</td>\n",
       "      <td>TO_DO</td>\n",
       "      <td>PROSHARES ULTRA NASD BIOTECH</td>\n",
       "      <td>US</td>\n",
       "      <td>399447956835.0</td>\n",
       "      <td>EQ0000000010049360</td>\n",
       "      <td>ETP</td>\n",
       "      <td>Equity</td>\n",
       "      <td>BBG000QMBZX6</td>\n",
       "      <td>BBG000QMBZX6</td>\n",
       "      <td>14005.0</td>\n",
       "      <td>14023.0</td>\n",
       "      <td>nan</td>\n",
       "      <td>0.0</td>\n",
       "      <td>39493.0</td>\n",
       "      <td>//blp/mktdata/bsym/US/BIB</td>\n",
       "      <td>//blp/mktdata/buid/US/EQ0000000010049360</td>\n",
       "      <td>//blp/mktdata/bsid/399447956835</td>\n",
       "    </tr>\n",
       "    <tr>\n",
       "      <th>4</th>\n",
       "      <td>CEFL</td>\n",
       "      <td>2</td>\n",
       "      <td>160000000</td>\n",
       "      <td>TO_DO</td>\n",
       "      <td>ETRACS MONTH PAY 2X LEV C/E</td>\n",
       "      <td>US</td>\n",
       "      <td>399470477355.0</td>\n",
       "      <td>EQ0000000033032900</td>\n",
       "      <td>ETP</td>\n",
       "      <td>Equity</td>\n",
       "      <td>BBG005P8R2H1</td>\n",
       "      <td>BBG005P8R2H1</td>\n",
       "      <td>14019.0</td>\n",
       "      <td>29776.0</td>\n",
       "      <td>nan</td>\n",
       "      <td>0.0</td>\n",
       "      <td>39500.0</td>\n",
       "      <td>//blp/mktdata/bsym/US/CEFL</td>\n",
       "      <td>//blp/mktdata/buid/US/EQ0000000033032900</td>\n",
       "      <td>//blp/mktdata/bsid/399470477355</td>\n",
       "    </tr>\n",
       "  </tbody>\n",
       "</table>\n",
       "</div>"
      ],
      "text/plain": [
       "  LEV_ETF_DES  LEV_RATIO  ASSETS_2016 BASE_ETF_DES  \\\n",
       "0         AGQ          2    269000000        TO_DO   \n",
       "1        BDCL          2    224000000        TO_DO   \n",
       "2         BDD          2      3000000        TO_DO   \n",
       "3         BIB          2    429000000        TO_DO   \n",
       "4        CEFL          2    160000000        TO_DO   \n",
       "\n",
       "                           NAME FEED_SOURCE ID_BB_SEC_NUM_SRC  \\\n",
       "0        PROSHARES ULTRA SILVER          US    399440478895.0   \n",
       "1    ETRACS 2X WELLS FARGO BDCI          US    399453866571.0   \n",
       "2    DB BASE METALS DOUBLE LONG          US    399438439680.0   \n",
       "3  PROSHARES ULTRA NASD BIOTECH          US    399447956835.0   \n",
       "4   ETRACS MONTH PAY 2X LEV C/E          US    399470477355.0   \n",
       "\n",
       "         ID_BB_UNIQUE SECURITY_TYP MARKET_SECTOR_DES  ID_BB_GLOBAL  \\\n",
       "0  EQ0000000007454961          ETP            Equity  BBG000F7KQG0   \n",
       "1  EQ0000000017535618          ETP            Equity  BBG001Q9RN36   \n",
       "2  EQ0000000006376762          ETP            Equity  BBG000GDGKJ1   \n",
       "3  EQ0000000010049360          ETP            Equity  BBG000QMBZX6   \n",
       "4  EQ0000000033032900          ETP            Equity  BBG005P8R2H1   \n",
       "\n",
       "  COMPOSITE_ID_BB_GLOBAL FEED_EID1 FEED_EID2 FEED_EID3 FEED_EID4  \\\n",
       "0           BBG000F7KQG0   14019.0   29776.0       nan       0.0   \n",
       "1           BBG001Q9RN36   14019.0   29776.0       nan       0.0   \n",
       "2           BBG000GDGKJ1   14019.0   29776.0       nan       0.0   \n",
       "3           BBG000QMBZX6   14005.0   14023.0       nan       0.0   \n",
       "4           BBG005P8R2H1   14019.0   29776.0       nan       0.0   \n",
       "\n",
       "  FEED_DELAYED_EID1       Subscription String 1  \\\n",
       "0           39500.0   //blp/mktdata/bsym/US/AGQ   \n",
       "1           39500.0  //blp/mktdata/bsym/US/BDCL   \n",
       "2           39500.0   //blp/mktdata/bsym/US/BDD   \n",
       "3           39493.0   //blp/mktdata/bsym/US/BIB   \n",
       "4           39500.0  //blp/mktdata/bsym/US/CEFL   \n",
       "\n",
       "                      Subscription String 2            Subscription String 3  \n",
       "0  //blp/mktdata/buid/US/EQ0000000007454961  //blp/mktdata/bsid/399440478895  \n",
       "1  //blp/mktdata/buid/US/EQ0000000017535618  //blp/mktdata/bsid/399453866571  \n",
       "2  //blp/mktdata/buid/US/EQ0000000006376762  //blp/mktdata/bsid/399438439680  \n",
       "3  //blp/mktdata/buid/US/EQ0000000010049360  //blp/mktdata/bsid/399447956835  \n",
       "4  //blp/mktdata/buid/US/EQ0000000033032900  //blp/mktdata/bsid/399470477355  "
      ]
     },
     "execution_count": 8,
     "metadata": {},
     "output_type": "execute_result"
    }
   ],
   "source": [
    "clean_leveraged_etfs.head()"
   ]
  },
  {
   "cell_type": "code",
   "execution_count": 9,
   "metadata": {
    "collapsed": true
   },
   "outputs": [],
   "source": [
    "Utilities.general_tools.store_and_log_pandas_df('/Users/hmaupard/Documents/Personal/Data/Bachelier/Assets/LeveragedETFs.csv', clean_leveraged_etfs)"
   ]
  },
  {
   "cell_type": "code",
   "execution_count": 10,
   "metadata": {
    "collapsed": true
   },
   "outputs": [],
   "source": [
    "leveraged_etfs = Utilities.general_tools.read_and_log_pandas_df('/Users/hmaupard/Documents/Personal/Data/Bachelier/Assets/LeveragedETFs.csv')"
   ]
  },
  {
   "cell_type": "code",
   "execution_count": 12,
   "metadata": {
    "collapsed": false
   },
   "outputs": [
    {
     "data": {
      "text/plain": [
       "LEV_ETF_DES                object\n",
       "LEV_RATIO                   int64\n",
       "ASSETS_2016                 int64\n",
       "BASE_ETF_DES               object\n",
       "NAME                       object\n",
       "FEED_SOURCE                object\n",
       "ID_BB_SEC_NUM_SRC         float64\n",
       "ID_BB_UNIQUE               object\n",
       "SECURITY_TYP               object\n",
       "MARKET_SECTOR_DES          object\n",
       "ID_BB_GLOBAL               object\n",
       "COMPOSITE_ID_BB_GLOBAL     object\n",
       "FEED_EID1                 float64\n",
       "FEED_EID2                 float64\n",
       "FEED_EID3                 float64\n",
       "FEED_EID4                 float64\n",
       "FEED_DELAYED_EID1         float64\n",
       "Subscription String 1      object\n",
       "Subscription String 2      object\n",
       "Subscription String 3      object\n",
       "dtype: object"
      ]
     },
     "execution_count": 12,
     "metadata": {},
     "output_type": "execute_result"
    }
   ],
   "source": [
    "leveraged_etfs.dtypes"
   ]
  },
  {
   "cell_type": "code",
   "execution_count": null,
   "metadata": {
    "collapsed": true
   },
   "outputs": [],
   "source": []
  }
 ],
 "metadata": {
  "kernelspec": {
   "display_name": "Python 3",
   "language": "python",
   "name": "python3"
  },
  "language_info": {
   "codemirror_mode": {
    "name": "ipython",
    "version": 3
   },
   "file_extension": ".py",
   "mimetype": "text/x-python",
   "name": "python",
   "nbconvert_exporter": "python",
   "pygments_lexer": "ipython3",
   "version": "3.5.1"
  }
 },
 "nbformat": 4,
 "nbformat_minor": 0
}
