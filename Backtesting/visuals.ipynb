{
 "cells": [
  {
   "cell_type": "code",
   "execution_count": 8,
   "metadata": {},
   "outputs": [],
   "source": [
    "import sys\n",
    "sys.path.append('F:/dev/pythonCode')\n",
    "import pandas as pd\n",
    "import HistoricalExtradayPrices.common_extraday_tools\n",
    "import Utilities.assets\n",
    "import HistoricalIntradayPrices.common_intraday_tools\n",
    "import datetime\n",
    "import numpy as np\n",
    "import matplotlib.pyplot as plt"
   ]
  },
  {
   "cell_type": "code",
   "execution_count": 15,
   "metadata": {},
   "outputs": [],
   "source": [
    "start_date = datetime.date(2015,12,1)\n",
    "end_date = datetime.date(2016,1,15)\n",
    "ticker = 'SPY US'"
   ]
  },
  {
   "cell_type": "code",
   "execution_count": 10,
   "metadata": {},
   "outputs": [],
   "source": [
    "assets = Utilities.assets.get_assets()\n",
    "assets['FUZZY_BBG_TICKER'] = map(lambda t: t[0]+' '+t[1],zip(assets['ID_BB_SEC_NUM_DES'], assets['FEED_SOURCE']))"
   ]
  },
  {
   "cell_type": "code",
   "execution_count": 11,
   "metadata": {},
   "outputs": [],
   "source": [
    "bbgid = assets[assets['FUZZY_BBG_TICKER'] == ticker]"
   ]
  },
  {
   "cell_type": "code",
   "execution_count": 12,
   "metadata": {},
   "outputs": [
    {
     "name": "stderr",
     "output_type": "stream",
     "text": [
      "CRITICAL:root:Unzipping failed with error message: \n",
      "CRITICAL:root:      Reading path F:/financialData\\HistoricalIntradayPrices\\zip\\2015-12-05\\BBG000BDTBL9.csv.zip failed, with error: No columns to parse from file\n",
      "WARNING:root:Reading failed with error: ['Close' 'High' 'Low' 'Open' 'Volume'] not in index\n",
      "CRITICAL:root:Unzipping failed with error message: \n",
      "CRITICAL:root:      Reading path F:/financialData\\HistoricalIntradayPrices\\zip\\2015-12-06\\BBG000BDTBL9.csv.zip failed, with error: No columns to parse from file\n",
      "WARNING:root:Reading failed with error: ['Close' 'High' 'Low' 'Open' 'Volume'] not in index\n",
      "CRITICAL:root:Unzipping failed with error message: \n",
      "CRITICAL:root:      Reading path F:/financialData\\HistoricalIntradayPrices\\zip\\2015-12-07\\BBG000BDTBL9.csv.zip failed, with error: No columns to parse from file\n",
      "WARNING:root:Reading failed with error: ['Close' 'High' 'Low' 'Open' 'Volume'] not in index\n",
      "CRITICAL:root:Unzipping failed with error message: \n",
      "CRITICAL:root:      Reading path F:/financialData\\HistoricalIntradayPrices\\zip\\2015-12-08\\BBG000BDTBL9.csv.zip failed, with error: No columns to parse from file\n",
      "WARNING:root:Reading failed with error: ['Close' 'High' 'Low' 'Open' 'Volume'] not in index\n",
      "CRITICAL:root:Unzipping failed with error message: \n",
      "CRITICAL:root:      Reading path F:/financialData\\HistoricalIntradayPrices\\zip\\2015-12-09\\BBG000BDTBL9.csv.zip failed, with error: No columns to parse from file\n",
      "WARNING:root:Reading failed with error: ['Close' 'High' 'Low' 'Open' 'Volume'] not in index\n",
      "CRITICAL:root:Unzipping failed with error message: \n",
      "CRITICAL:root:      Reading path F:/financialData\\HistoricalIntradayPrices\\zip\\2015-12-10\\BBG000BDTBL9.csv.zip failed, with error: No columns to parse from file\n",
      "WARNING:root:Reading failed with error: ['Close' 'High' 'Low' 'Open' 'Volume'] not in index\n",
      "CRITICAL:root:Unzipping failed with error message: \n",
      "CRITICAL:root:      Reading path F:/financialData\\HistoricalIntradayPrices\\zip\\2015-12-11\\BBG000BDTBL9.csv.zip failed, with error: No columns to parse from file\n",
      "WARNING:root:Reading failed with error: ['Close' 'High' 'Low' 'Open' 'Volume'] not in index\n",
      "CRITICAL:root:Unzipping failed with error message: \n",
      "CRITICAL:root:      Reading path F:/financialData\\HistoricalIntradayPrices\\zip\\2015-12-12\\BBG000BDTBL9.csv.zip failed, with error: No columns to parse from file\n",
      "WARNING:root:Reading failed with error: ['Close' 'High' 'Low' 'Open' 'Volume'] not in index\n",
      "CRITICAL:root:Unzipping failed with error message: \n",
      "CRITICAL:root:      Reading path F:/financialData\\HistoricalIntradayPrices\\zip\\2015-12-13\\BBG000BDTBL9.csv.zip failed, with error: No columns to parse from file\n",
      "WARNING:root:Reading failed with error: ['Close' 'High' 'Low' 'Open' 'Volume'] not in index\n",
      "CRITICAL:root:Unzipping failed with error message: \n",
      "CRITICAL:root:      Reading path F:/financialData\\HistoricalIntradayPrices\\zip\\2015-12-14\\BBG000BDTBL9.csv.zip failed, with error: No columns to parse from file\n",
      "WARNING:root:Reading failed with error: ['Close' 'High' 'Low' 'Open' 'Volume'] not in index\n",
      "CRITICAL:root:Unzipping failed with error message: \n",
      "CRITICAL:root:      Reading path F:/financialData\\HistoricalIntradayPrices\\zip\\2015-12-15\\BBG000BDTBL9.csv.zip failed, with error: No columns to parse from file\n",
      "WARNING:root:Reading failed with error: ['Close' 'High' 'Low' 'Open' 'Volume'] not in index\n",
      "CRITICAL:root:Unzipping failed with error message: \n",
      "CRITICAL:root:      Reading path F:/financialData\\HistoricalIntradayPrices\\zip\\2015-12-16\\BBG000BDTBL9.csv.zip failed, with error: No columns to parse from file\n",
      "WARNING:root:Reading failed with error: ['Close' 'High' 'Low' 'Open' 'Volume'] not in index\n",
      "CRITICAL:root:Unzipping failed with error message: \n",
      "CRITICAL:root:      Reading path F:/financialData\\HistoricalIntradayPrices\\zip\\2015-12-17\\BBG000BDTBL9.csv.zip failed, with error: No columns to parse from file\n",
      "WARNING:root:Reading failed with error: ['Close' 'High' 'Low' 'Open' 'Volume'] not in index\n",
      "CRITICAL:root:Unzipping failed with error message: \n",
      "CRITICAL:root:      Reading path F:/financialData\\HistoricalIntradayPrices\\zip\\2015-12-18\\BBG000BDTBL9.csv.zip failed, with error: No columns to parse from file\n",
      "WARNING:root:Reading failed with error: ['Close' 'High' 'Low' 'Open' 'Volume'] not in index\n",
      "CRITICAL:root:Unzipping failed with error message: \n",
      "CRITICAL:root:      Reading path F:/financialData\\HistoricalIntradayPrices\\zip\\2015-12-19\\BBG000BDTBL9.csv.zip failed, with error: No columns to parse from file\n",
      "WARNING:root:Reading failed with error: ['Close' 'High' 'Low' 'Open' 'Volume'] not in index\n",
      "CRITICAL:root:Unzipping failed with error message: \n",
      "CRITICAL:root:      Reading path F:/financialData\\HistoricalIntradayPrices\\zip\\2015-12-20\\BBG000BDTBL9.csv.zip failed, with error: No columns to parse from file\n",
      "WARNING:root:Reading failed with error: ['Close' 'High' 'Low' 'Open' 'Volume'] not in index\n",
      "CRITICAL:root:Unzipping failed with error message: \n",
      "CRITICAL:root:      Reading path F:/financialData\\HistoricalIntradayPrices\\zip\\2015-12-21\\BBG000BDTBL9.csv.zip failed, with error: No columns to parse from file\n",
      "WARNING:root:Reading failed with error: ['Close' 'High' 'Low' 'Open' 'Volume'] not in index\n",
      "CRITICAL:root:Unzipping failed with error message: \n",
      "CRITICAL:root:      Reading path F:/financialData\\HistoricalIntradayPrices\\zip\\2015-12-22\\BBG000BDTBL9.csv.zip failed, with error: No columns to parse from file\n",
      "WARNING:root:Reading failed with error: ['Close' 'High' 'Low' 'Open' 'Volume'] not in index\n",
      "CRITICAL:root:Unzipping failed with error message: \n",
      "CRITICAL:root:      Reading path F:/financialData\\HistoricalIntradayPrices\\zip\\2015-12-23\\BBG000BDTBL9.csv.zip failed, with error: No columns to parse from file\n",
      "WARNING:root:Reading failed with error: ['Close' 'High' 'Low' 'Open' 'Volume'] not in index\n",
      "CRITICAL:root:Unzipping failed with error message: \n",
      "CRITICAL:root:      Reading path F:/financialData\\HistoricalIntradayPrices\\zip\\2015-12-24\\BBG000BDTBL9.csv.zip failed, with error: No columns to parse from file\n",
      "WARNING:root:Reading failed with error: ['Close' 'High' 'Low' 'Open' 'Volume'] not in index\n",
      "CRITICAL:root:Unzipping failed with error message: \n",
      "CRITICAL:root:      Reading path F:/financialData\\HistoricalIntradayPrices\\zip\\2015-12-25\\BBG000BDTBL9.csv.zip failed, with error: No columns to parse from file\n",
      "WARNING:root:Reading failed with error: ['Close' 'High' 'Low' 'Open' 'Volume'] not in index\n",
      "CRITICAL:root:Unzipping failed with error message: \n",
      "CRITICAL:root:      Reading path F:/financialData\\HistoricalIntradayPrices\\zip\\2015-12-26\\BBG000BDTBL9.csv.zip failed, with error: No columns to parse from file\n",
      "WARNING:root:Reading failed with error: ['Close' 'High' 'Low' 'Open' 'Volume'] not in index\n",
      "CRITICAL:root:Unzipping failed with error message: \n",
      "CRITICAL:root:      Reading path F:/financialData\\HistoricalIntradayPrices\\zip\\2015-12-27\\BBG000BDTBL9.csv.zip failed, with error: No columns to parse from file\n",
      "WARNING:root:Reading failed with error: ['Close' 'High' 'Low' 'Open' 'Volume'] not in index\n",
      "CRITICAL:root:Unzipping failed with error message: \n",
      "CRITICAL:root:      Reading path F:/financialData\\HistoricalIntradayPrices\\zip\\2015-12-28\\BBG000BDTBL9.csv.zip failed, with error: No columns to parse from file\n",
      "WARNING:root:Reading failed with error: ['Close' 'High' 'Low' 'Open' 'Volume'] not in index\n",
      "CRITICAL:root:Unzipping failed with error message: \n",
      "CRITICAL:root:      Reading path F:/financialData\\HistoricalIntradayPrices\\zip\\2016-01-01\\BBG000BDTBL9.csv.zip failed, with error: No columns to parse from file\n",
      "WARNING:root:Reading failed with error: ['Close' 'High' 'Low' 'Open' 'Volume'] not in index\n",
      "CRITICAL:root:Unzipping failed with error message: \n",
      "CRITICAL:root:      Reading path F:/financialData\\HistoricalIntradayPrices\\zip\\2016-01-02\\BBG000BDTBL9.csv.zip failed, with error: No columns to parse from file\n",
      "WARNING:root:Reading failed with error: ['Close' 'High' 'Low' 'Open' 'Volume'] not in index\n",
      "CRITICAL:root:Unzipping failed with error message: \n",
      "CRITICAL:root:      Reading path F:/financialData\\HistoricalIntradayPrices\\zip\\2016-01-03\\BBG000BDTBL9.csv.zip failed, with error: No columns to parse from file\n",
      "WARNING:root:Reading failed with error: ['Close' 'High' 'Low' 'Open' 'Volume'] not in index\n",
      "CRITICAL:root:Unzipping failed with error message: \n",
      "CRITICAL:root:      Reading path F:/financialData\\HistoricalIntradayPrices\\zip\\2016-01-09\\BBG000BDTBL9.csv.zip failed, with error: No columns to parse from file\n",
      "WARNING:root:Reading failed with error: ['Close' 'High' 'Low' 'Open' 'Volume'] not in index\n",
      "CRITICAL:root:Unzipping failed with error message: \n",
      "CRITICAL:root:      Reading path F:/financialData\\HistoricalIntradayPrices\\zip\\2016-01-10\\BBG000BDTBL9.csv.zip failed, with error: No columns to parse from file\n",
      "WARNING:root:Reading failed with error: ['Close' 'High' 'Low' 'Open' 'Volume'] not in index\n"
     ]
    }
   ],
   "source": [
    "prices = HistoricalIntradayPrices.common_intraday_tools.get_intraday_prices(start_date, end_date, [bbgid.index[0]])"
   ]
  },
  {
   "cell_type": "code",
   "execution_count": 13,
   "metadata": {},
   "outputs": [
    {
     "data": {
      "text/html": [
       "<div>\n",
       "<table border=\"1\" class=\"dataframe\">\n",
       "  <thead>\n",
       "    <tr style=\"text-align: right;\">\n",
       "      <th></th>\n",
       "      <th></th>\n",
       "      <th>Close</th>\n",
       "      <th>High</th>\n",
       "      <th>Low</th>\n",
       "      <th>Open</th>\n",
       "      <th>Volume</th>\n",
       "    </tr>\n",
       "    <tr>\n",
       "      <th>ID_BB_GLOBAL</th>\n",
       "      <th>Time</th>\n",
       "      <th></th>\n",
       "      <th></th>\n",
       "      <th></th>\n",
       "      <th></th>\n",
       "      <th></th>\n",
       "    </tr>\n",
       "  </thead>\n",
       "  <tbody>\n",
       "    <tr>\n",
       "      <th rowspan=\"10\" valign=\"top\">BBG000BDTBL9</th>\n",
       "      <th>2015-12-01 14:30:00</th>\n",
       "      <td>0.000000</td>\n",
       "      <td>0.000</td>\n",
       "      <td>0.0000</td>\n",
       "      <td>0.000000</td>\n",
       "      <td>0</td>\n",
       "    </tr>\n",
       "    <tr>\n",
       "      <th>2015-12-01 14:31:00</th>\n",
       "      <td>209.400000</td>\n",
       "      <td>209.460</td>\n",
       "      <td>209.3800</td>\n",
       "      <td>209.440000</td>\n",
       "      <td>771000</td>\n",
       "    </tr>\n",
       "    <tr>\n",
       "      <th>2015-12-01 14:32:00</th>\n",
       "      <td>209.470000</td>\n",
       "      <td>209.512</td>\n",
       "      <td>209.3600</td>\n",
       "      <td>209.509200</td>\n",
       "      <td>265700</td>\n",
       "    </tr>\n",
       "    <tr>\n",
       "      <th>2015-12-01 14:33:00</th>\n",
       "      <td>209.470000</td>\n",
       "      <td>209.510</td>\n",
       "      <td>209.4200</td>\n",
       "      <td>209.450000</td>\n",
       "      <td>224200</td>\n",
       "    </tr>\n",
       "    <tr>\n",
       "      <th>2015-12-01 14:34:00</th>\n",
       "      <td>209.507167</td>\n",
       "      <td>209.550</td>\n",
       "      <td>209.4601</td>\n",
       "      <td>209.495665</td>\n",
       "      <td>386200</td>\n",
       "    </tr>\n",
       "    <tr>\n",
       "      <th>2015-12-01 14:35:00</th>\n",
       "      <td>209.400000</td>\n",
       "      <td>209.540</td>\n",
       "      <td>209.3600</td>\n",
       "      <td>209.500000</td>\n",
       "      <td>244400</td>\n",
       "    </tr>\n",
       "    <tr>\n",
       "      <th>2015-12-01 14:36:00</th>\n",
       "      <td>209.400000</td>\n",
       "      <td>209.400</td>\n",
       "      <td>209.4000</td>\n",
       "      <td>209.400000</td>\n",
       "      <td>0</td>\n",
       "    </tr>\n",
       "    <tr>\n",
       "      <th>2015-12-01 14:37:00</th>\n",
       "      <td>209.420000</td>\n",
       "      <td>209.510</td>\n",
       "      <td>209.3800</td>\n",
       "      <td>209.400000</td>\n",
       "      <td>222900</td>\n",
       "    </tr>\n",
       "    <tr>\n",
       "      <th>2015-12-01 14:38:00</th>\n",
       "      <td>209.685439</td>\n",
       "      <td>209.780</td>\n",
       "      <td>209.4000</td>\n",
       "      <td>209.520413</td>\n",
       "      <td>522900</td>\n",
       "    </tr>\n",
       "    <tr>\n",
       "      <th>2015-12-01 14:39:00</th>\n",
       "      <td>209.810000</td>\n",
       "      <td>209.850</td>\n",
       "      <td>209.7600</td>\n",
       "      <td>209.770000</td>\n",
       "      <td>251400</td>\n",
       "    </tr>\n",
       "  </tbody>\n",
       "</table>\n",
       "</div>"
      ]
     },
     "output_type": "execute_result",
     "metadata": {}
    }
   ],
   "source": [
    "prices['Close'].replace(0, None, inplace=True)\n",
    "prices.fillna(method='ffill', inplace=True)\n",
    "prices.fillna(method='bfill', inplace=True)\n",
    "prices.head(10)"
   ]
  },
  {
   "cell_type": "code",
   "execution_count": 14,
   "metadata": {},
   "outputs": [],
   "source": [
    "t = np.asarray(prices.index.get_level_values(1))\n",
    "s = prices['Close']\n",
    "plt.plot(t, s)\n",
    "\n",
    "plt.show()"
   ]
  },
  {
   "cell_type": "code",
   "execution_count": null,
   "metadata": {},
   "outputs": [],
   "source": [
    "p = prices[prices['Close']==0]\n",
    "p.head(10)"
   ]
  },
  {
   "cell_type": "code",
   "execution_count": null,
   "metadata": {},
   "outputs": [],
   "source": [
    ""
   ]
  },
  {
   "cell_type": "code",
   "execution_count": null,
   "metadata": {},
   "outputs": [],
   "source": [
    ""
   ]
  },
  {
   "cell_type": "code",
   "execution_count": null,
   "metadata": {},
   "outputs": [],
   "source": [
    ""
   ]
  }
 ],
 "metadata": {
  "kernelspec": {
   "display_name": "Python 2",
   "language": "python",
   "name": "python2"
  },
  "language_info": {
   "codemirror_mode": {
    "name": "ipython",
    "version": 2.0
   },
   "file_extension": ".py",
   "mimetype": "text/x-python",
   "name": "python",
   "nbconvert_exporter": "python",
   "pygments_lexer": "ipython2",
   "version": "2.7.10"
  }
 },
 "nbformat": 4,
 "nbformat_minor": 0
}